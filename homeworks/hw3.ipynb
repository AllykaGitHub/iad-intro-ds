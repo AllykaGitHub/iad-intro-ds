{
  "nbformat": 4,
  "nbformat_minor": 0,
  "metadata": {
    "colab": {
      "name": "hw3",
      "provenance": [],
      "collapsed_sections": []
    },
    "kernelspec": {
      "name": "python3",
      "display_name": "Python 3"
    }
  },
  "cells": [
    {
      "cell_type": "markdown",
      "metadata": {
        "id": "IHgmxWG_7lnE",
        "colab_type": "text"
      },
      "source": [
        "# Введение в анализ данных\n",
        "## НИУ ВШЭ, 2019-2020 учебный год\n",
        "\n",
        "### Домашнее задание №3\n",
        "\n",
        "Задание выполнил(а): (впишите свои фамилию и имя)\n",
        "\n",
        "### Общая информация\n",
        "Дата выдачи: \n",
        "\n",
        "Дедлайн: \n",
        "\n",
        "### О задании\n",
        "\n",
        "В этом домашнем задании вы будете работать с линейной классификацией, попрактикуетесь на реальной задаче классификации текстов.\n",
        "\n",
        "Для решения этого домашнего задания намного удобнее будет использовать Colab, так как данных много.\n",
        "\n",
        "### Оценивание и штрафы\n",
        "\n",
        "За сдачу задания позже срока на итоговую оценку за задание накладывается штраф в размере 1 балл в день, но получить отрицательную оценку нельзя.\n",
        "\n",
        "__Внимание!__ Домашнее задание выполняется самостоятельно. «Похожие» решения считаются плагиатом и все задействованные студенты (в том числе те, у кого списали) не могут получить за него больше 0 баллов.\n",
        "\n",
        "### Формат сдачи\n",
        "Загрузка файлов с решениями происходит в системе Anytask."
      ]
    },
    {
      "cell_type": "markdown",
      "metadata": {
        "id": "ztx03xvr9T95",
        "colab_type": "text"
      },
      "source": [
        "### Подготовка данных"
      ]
    },
    {
      "cell_type": "code",
      "metadata": {
        "id": "BVrrwTJNjuDt",
        "colab_type": "code",
        "colab": {}
      },
      "source": [
        "import numpy as np\n",
        "import pandas as pd\n",
        "\n",
        "import matplotlib.pyplot as plt\n",
        "%matplotlib inline\n",
        "\n",
        "from tqdm import tqdm"
      ],
      "execution_count": 0,
      "outputs": []
    },
    {
      "cell_type": "code",
      "metadata": {
        "id": "_VMchexbjjTh",
        "colab_type": "code",
        "outputId": "c1f66a1f-8851-42f3-e7e5-6c48d3c24707",
        "colab": {
          "base_uri": "https://localhost:8080/",
          "height": 397
        }
      },
      "source": [
        "# Датасет можно скачать здесь\n",
        "\n",
        "!wget https://www.dropbox.com/s/tg55q9mrziroyrs/train_subset.csv"
      ],
      "execution_count": 0,
      "outputs": [
        {
          "output_type": "stream",
          "text": [
            "--2020-03-31 09:58:01--  https://www.dropbox.com/s/tg55q9mrziroyrs/train_subset.csv\n",
            "Resolving www.dropbox.com (www.dropbox.com)... 162.125.82.1, 2620:100:6032:1::a27d:5201\n",
            "Connecting to www.dropbox.com (www.dropbox.com)|162.125.82.1|:443... connected.\n",
            "HTTP request sent, awaiting response... 301 Moved Permanently\n",
            "Location: /s/raw/tg55q9mrziroyrs/train_subset.csv [following]\n",
            "--2020-03-31 09:58:01--  https://www.dropbox.com/s/raw/tg55q9mrziroyrs/train_subset.csv\n",
            "Reusing existing connection to www.dropbox.com:443.\n",
            "HTTP request sent, awaiting response... 302 Found\n",
            "Location: https://ucae286d974c1a93364efc4c15b2.dl.dropboxusercontent.com/cd/0/inline/A08xSoWyLqzqkg3IZST5TsmXcFjlXWpm4igRmrNYI9-NdkryhCoDBxr_b-aRGBPHEeVY1bQo9aN9aI788NmNqV_nYufmH0n2rupAIUYBWOcPqpAuB_dCDIlXLNoMVzPcPbc/file# [following]\n",
            "--2020-03-31 09:58:02--  https://ucae286d974c1a93364efc4c15b2.dl.dropboxusercontent.com/cd/0/inline/A08xSoWyLqzqkg3IZST5TsmXcFjlXWpm4igRmrNYI9-NdkryhCoDBxr_b-aRGBPHEeVY1bQo9aN9aI788NmNqV_nYufmH0n2rupAIUYBWOcPqpAuB_dCDIlXLNoMVzPcPbc/file\n",
            "Resolving ucae286d974c1a93364efc4c15b2.dl.dropboxusercontent.com (ucae286d974c1a93364efc4c15b2.dl.dropboxusercontent.com)... 162.125.82.6, 2620:100:6032:6::a27d:5206\n",
            "Connecting to ucae286d974c1a93364efc4c15b2.dl.dropboxusercontent.com (ucae286d974c1a93364efc4c15b2.dl.dropboxusercontent.com)|162.125.82.6|:443... connected.\n",
            "HTTP request sent, awaiting response... 200 OK\n",
            "Length: 19213119 (18M) [text/plain]\n",
            "Saving to: ‘train_subset.csv’\n",
            "\n",
            "train_subset.csv    100%[===================>]  18.32M  4.05MB/s    in 4.6s    \n",
            "\n",
            "2020-03-31 09:58:07 (4.02 MB/s) - ‘train_subset.csv’ saved [19213119/19213119]\n",
            "\n"
          ],
          "name": "stdout"
        }
      ]
    },
    {
      "cell_type": "markdown",
      "metadata": {
        "id": "rvXKae8q9nn-",
        "colab_type": "text"
      },
      "source": [
        "### Данные\n",
        "\n",
        "Мы имеем дело с данными с торговой платформы Avito.\n",
        "Для каждого товара представлены следующие параметры:\n",
        " - title\n",
        " - description\n",
        " - Category_name\n",
        " - Category\n",
        "\n",
        "Имеется информация об объектах 50 классов.\n",
        "Задача: по новым объектам (title, description) предсказать Category.\n",
        "(Очевидно, что параметр Category_name для предсказания классов использовать нельзя)"
      ]
    },
    {
      "cell_type": "code",
      "metadata": {
        "id": "BqEuoDhqNgoa",
        "colab_type": "code",
        "outputId": "b345f049-ae77-4d1b-a25f-4d4f447e63d2",
        "colab": {
          "base_uri": "https://localhost:8080/",
          "height": 235
        }
      },
      "source": [
        "data = pd.read_csv(\"train_subset.csv\", index_col='id')\n",
        "\n",
        "data.head()"
      ],
      "execution_count": 0,
      "outputs": [
        {
          "output_type": "execute_result",
          "data": {
            "text/html": [
              "<div>\n",
              "<style scoped>\n",
              "    .dataframe tbody tr th:only-of-type {\n",
              "        vertical-align: middle;\n",
              "    }\n",
              "\n",
              "    .dataframe tbody tr th {\n",
              "        vertical-align: top;\n",
              "    }\n",
              "\n",
              "    .dataframe thead th {\n",
              "        text-align: right;\n",
              "    }\n",
              "</style>\n",
              "<table border=\"1\" class=\"dataframe\">\n",
              "  <thead>\n",
              "    <tr style=\"text-align: right;\">\n",
              "      <th></th>\n",
              "      <th>title</th>\n",
              "      <th>description</th>\n",
              "      <th>Category_name</th>\n",
              "      <th>Category</th>\n",
              "    </tr>\n",
              "    <tr>\n",
              "      <th>id</th>\n",
              "      <th></th>\n",
              "      <th></th>\n",
              "      <th></th>\n",
              "      <th></th>\n",
              "    </tr>\n",
              "  </thead>\n",
              "  <tbody>\n",
              "    <tr>\n",
              "      <th>382220</th>\n",
              "      <td>Прихожая</td>\n",
              "      <td>В хорошем состоянии. Торг</td>\n",
              "      <td>Мебель и интерьер</td>\n",
              "      <td>20</td>\n",
              "    </tr>\n",
              "    <tr>\n",
              "      <th>397529</th>\n",
              "      <td>Кордиант 215/55/16 Летние</td>\n",
              "      <td>Кордиант 215/55/16 Летние/\\n /\\nАртикул: 1737l...</td>\n",
              "      <td>Запчасти и аксессуары</td>\n",
              "      <td>10</td>\n",
              "    </tr>\n",
              "    <tr>\n",
              "      <th>584569</th>\n",
              "      <td>Стол</td>\n",
              "      <td>Стол, 2 рабочих места . Стол серого цвета, в д...</td>\n",
              "      <td>Мебель и интерьер</td>\n",
              "      <td>20</td>\n",
              "    </tr>\n",
              "    <tr>\n",
              "      <th>2513100</th>\n",
              "      <td>Комбинезон</td>\n",
              "      <td>Размер-42/44</td>\n",
              "      <td>Одежда, обувь, аксессуары</td>\n",
              "      <td>27</td>\n",
              "    </tr>\n",
              "    <tr>\n",
              "      <th>1091886</th>\n",
              "      <td>Ветровка</td>\n",
              "      <td>На 2 года</td>\n",
              "      <td>Детская одежда и обувь</td>\n",
              "      <td>29</td>\n",
              "    </tr>\n",
              "  </tbody>\n",
              "</table>\n",
              "</div>"
            ],
            "text/plain": [
              "                             title  ... Category\n",
              "id                                  ...         \n",
              "382220                    Прихожая  ...       20\n",
              "397529   Кордиант 215/55/16 Летние  ...       10\n",
              "584569                        Стол  ...       20\n",
              "2513100                 Комбинезон  ...       27\n",
              "1091886                   Ветровка  ...       29\n",
              "\n",
              "[5 rows x 4 columns]"
            ]
          },
          "metadata": {
            "tags": []
          },
          "execution_count": 6
        }
      ]
    },
    {
      "cell_type": "code",
      "metadata": {
        "id": "Kg8iPp7fiwGh",
        "colab_type": "code",
        "outputId": "96ed00ed-b63b-4478-f2d4-66bda1110b5c",
        "colab": {
          "base_uri": "https://localhost:8080/",
          "height": 35
        }
      },
      "source": [
        "data.shape"
      ],
      "execution_count": 0,
      "outputs": [
        {
          "output_type": "execute_result",
          "data": {
            "text/plain": [
              "(30000, 4)"
            ]
          },
          "metadata": {
            "tags": []
          },
          "execution_count": 7
        }
      ]
    },
    {
      "cell_type": "code",
      "metadata": {
        "id": "A1hvzAMETU2d",
        "colab_type": "code",
        "colab": {}
      },
      "source": [
        "X = data[['title', 'description']].to_numpy()\n",
        "y = data['Category'].to_numpy()\n",
        "\n",
        "del data"
      ],
      "execution_count": 0,
      "outputs": []
    },
    {
      "cell_type": "markdown",
      "metadata": {
        "id": "tMYU7zZw_cw-",
        "colab_type": "text"
      },
      "source": [
        "Сразу разделим выборку на train и test.\n",
        "Никакие данные из test для обучения использовать нельзя!"
      ]
    },
    {
      "cell_type": "code",
      "metadata": {
        "id": "6fia4_3vNprp",
        "colab_type": "code",
        "colab": {}
      },
      "source": [
        "from sklearn.model_selection import train_test_split\n",
        "\n",
        "X_train, X_test, y_train, y_test = train_test_split(X, y, test_size=0.3, random_state=42)"
      ],
      "execution_count": 0,
      "outputs": []
    },
    {
      "cell_type": "code",
      "metadata": {
        "id": "qDR8LtTJUIGt",
        "colab_type": "code",
        "outputId": "fd4d5b55-a023-4129-9ff5-a6e8e24db915",
        "colab": {
          "base_uri": "https://localhost:8080/",
          "height": 181
        }
      },
      "source": [
        "X_train[:5]"
      ],
      "execution_count": 0,
      "outputs": [
        {
          "output_type": "execute_result",
          "data": {
            "text/plain": [
              "array([['Сапоги 46 размер новые', 'Сапоги 46 размер новые'],\n",
              "       ['Светильники потолочный swarovski',\n",
              "        'светильники потолочные swarovski 6 штук , цена за штуку. В эксплуатации 2 года , продаются в связи со сменой интерьера в квартире'],\n",
              "       ['iPhone 7 plus 128GB Red красный в наличии',\n",
              "        '\\xa0/\\n/\\n Данная цена только для подписчиков Instagram: iQmac/\\n/\\n Новый красный айфон 7 Plus в наличии это элегантный и мощный смартфон, который готов в полной мере раскрыть новые возможности iOS 10. Аппарат с 4-ядерным процессором А10 и 3 ГБ ОЗУ с легкостью решает самые ресурсоемкие задачи, позволяя наслаждаться быстродействием «тяжелых» приложений и игр на 5,5-дюймовом дисплее. Аппарат получил экран, как у iPad Pro, так что картинка теперь соответствует кинематографическому стандарту.'],\n",
              "       ['Пион Ирис Ромашка рассада',\n",
              "        'Пион куст 500 р ( более 10 шт)/\\nСаженец/ корень 100р/\\nРастут у нас более 70 лет/\\nРозовые, бордовые и белые/\\nНа фото цветы 2018г/\\nП. Зубчаниновка/\\nлибо пл. Революции/\\nЕсть ирисы, ромашка, клубника, боярышник и ирга'],\n",
              "       ['Кофта', 'Состояние отличное']], dtype=object)"
            ]
          },
          "metadata": {
            "tags": []
          },
          "execution_count": 10
        }
      ]
    },
    {
      "cell_type": "markdown",
      "metadata": {
        "id": "X-ZEdlEGAXTD",
        "colab_type": "text"
      },
      "source": [
        "### Токенизация (1 балл)\n",
        "\n",
        "\n",
        "Токенизация -- разбиение текста на мелкие части, которые можно обработать машинными методами.\n",
        "Можно использовать разные алгоритмы токенизации.\n",
        "Давайте пока остановимся на простом WordPunctTokenizer.\n"
      ]
    },
    {
      "cell_type": "code",
      "metadata": {
        "id": "O9VgNlZ1Qy3o",
        "colab_type": "code",
        "outputId": "59ef3a75-008e-47c5-fba8-a319eba13ef4",
        "colab": {
          "base_uri": "https://localhost:8080/",
          "height": 53
        }
      },
      "source": [
        "from nltk.tokenize import WordPunctTokenizer\n",
        "\n",
        "\n",
        "tokenizer = WordPunctTokenizer()\n",
        "\n",
        "\n",
        "def preprocess(text: str) -> str:\n",
        "    return ' '.join(tokenizer.tokenize(text.lower()))\n",
        "\n",
        "\n",
        "text = 'Здраствуйте. Я, Кирилл. Хотел бы чтобы вы сделали игру, 3Д-экшон суть такова...'\n",
        "print(\"before:\", text,)\n",
        "print(\"after:\", preprocess(text),)"
      ],
      "execution_count": 0,
      "outputs": [
        {
          "output_type": "stream",
          "text": [
            "before: Здраствуйте. Я, Кирилл. Хотел бы чтобы вы сделали игру, 3Д-экшон суть такова...\n",
            "after: здраствуйте . я , кирилл . хотел бы чтобы вы сделали игру , 3д - экшон суть такова ...\n"
          ],
          "name": "stdout"
        }
      ]
    },
    {
      "cell_type": "markdown",
      "metadata": {
        "id": "x_RYBKC26o1X",
        "colab_type": "text"
      },
      "source": [
        "__Задание:__ Токенизируйте title и description в train и test"
      ]
    },
    {
      "cell_type": "code",
      "metadata": {
        "id": "Z5WO-7tJUvbs",
        "colab_type": "code",
        "colab": {}
      },
      "source": [
        "# Your code here"
      ],
      "execution_count": 0,
      "outputs": []
    },
    {
      "cell_type": "code",
      "metadata": {
        "id": "kARGeJQwYTil",
        "colab_type": "code",
        "outputId": "0fa98e11-b4cc-4741-f519-4ba7f110e1b3",
        "colab": {
          "base_uri": "https://localhost:8080/",
          "height": 379
        }
      },
      "source": [
        "X_train[:10]"
      ],
      "execution_count": 0,
      "outputs": [
        {
          "output_type": "execute_result",
          "data": {
            "text/plain": [
              "array([['сапоги 46 размер новые', 'сапоги 46 размер новые'],\n",
              "       ['светильники потолочный swarovski',\n",
              "        'светильники потолочные swarovski 6 штук , цена за штуку . в эксплуатации 2 года , продаются в связи со сменой интерьера в квартире'],\n",
              "       ['iphone 7 plus 128gb red красный в наличии',\n",
              "        '/ / данная цена только для подписчиков instagram : iqmac / / новый красный айфон 7 plus в наличии это элегантный и мощный смартфон , который готов в полной мере раскрыть новые возможности ios 10 . аппарат с 4 - ядерным процессором а10 и 3 гб озу с легкостью решает самые ресурсоемкие задачи , позволяя наслаждаться быстродействием « тяжелых » приложений и игр на 5 , 5 - дюймовом дисплее . аппарат получил экран , как у ipad pro , так что картинка теперь соответствует кинематографическому стандарту .'],\n",
              "       ['пион ирис ромашка рассада',\n",
              "        'пион куст 500 р ( более 10 шт )/ саженец / корень 100р / растут у нас более 70 лет / розовые , бордовые и белые / на фото цветы 2018г / п . зубчаниновка / либо пл . революции / есть ирисы , ромашка , клубника , боярышник и ирга'],\n",
              "       ['кофта', 'состояние отличное'],\n",
              "       ['1 - к квартира , 33 м² , 4 / 5 эт .',\n",
              "        'продаётся уютная , тёплая квартира в экологически - чистом районе города , рядом сосновый бор , всегда чистый воздух . дом 2004 г ., хорошие соседи , на площадке 2 - е квартиры , развитая инфраструктура , в шаговой доступности поликлиника , школа , тк « орбита », вещевой рынок . квартира в хорошем состоянии . подходит под ипотеку , долгов , обременений , перепланировке нет . в квартире натяжные потолки , в ванной комнате стены выполнены из влагостойких стеновых панелей . возможен обмен на квартиру в г . магнитогорске , торг .'],\n",
              "       ['платье новое 60 размера',\n",
              "        'платье 60 размера , новое , красивого темно синего цвета , из трикотажной ткани : вискоза 95 %, эластина 5 % . а - образного силуэта с рукавом 2 / 3 . длинна по спинке 113см .'],\n",
              "       ['ваз 2114 samara , 2007',\n",
              "        'продам ваз 2114 2007 г . в . в хорошем состоянии . / 2 владельца , птс оригинал . / машина в родной краске , в дтп никогда не была ,/ днище целое не ржавое . по ходовой нареканий нет , сел и поехал . / имеется музыка , сигнализация 2 комплекта ключей , птф , передние стеклоподъемники ./ небольшой торг при осмотре . / обмен не интересует .'],\n",
              "       ['наушники блутус',\n",
              "        'долго держат заряд 4 - 5 часов , можно и больше при средней громкости выжать из них . вкладыши .'],\n",
              "       ['пальто tommy hilfiger',\n",
              "        'состояние нового . промахнулась с размером . пальто до - 10 - 12 градусов . / возможна пересылка по почте']],\n",
              "      dtype=object)"
            ]
          },
          "metadata": {
            "tags": []
          },
          "execution_count": 13
        }
      ]
    },
    {
      "cell_type": "code",
      "metadata": {
        "id": "VDnDSWwFDwFo",
        "colab_type": "code",
        "colab": {}
      },
      "source": [
        "assert X_train[10][1] == 'продам иж планета 3 , 76 год , ( стоит на старом учёте , документы утеряны ) на ходу , хорошее состояние , все интересующие вопросы по телефону ( с родной коляской на 3 тысячи дороже ) . торга не будет .'"
      ],
      "execution_count": 0,
      "outputs": []
    },
    {
      "cell_type": "markdown",
      "metadata": {
        "id": "hlIITUk0AsmS",
        "colab_type": "text"
      },
      "source": [
        "### BOW (1.5 балла)\n",
        "\n",
        "Один из традиционных подходов -- построение bag of words.\n",
        "\n",
        "Метод состоит в следующем:\n",
        "\n",
        " - Составить словарь самых часто встречающихся слов в train data\n",
        " - Для каждого примера из train посчитать, сколько раз каждое слово из словаря в нём встречается\n",
        "\n",
        "\n",
        " В sklearn есть CountVectorizer, но в этом задании его использовать нельзя."
      ]
    },
    {
      "cell_type": "markdown",
      "metadata": {
        "id": "GMKUttDWIF92",
        "colab_type": "text"
      },
      "source": [
        "__Задание:__ Найдите k самых частых слов, отсортируйте их по убыванию частотности"
      ]
    },
    {
      "cell_type": "code",
      "metadata": {
        "id": "ZEVE_bzkRBx0",
        "colab_type": "code",
        "colab": {}
      },
      "source": [
        "bow_vocabulary = # Your code here"
      ],
      "execution_count": 0,
      "outputs": []
    },
    {
      "cell_type": "code",
      "metadata": {
        "id": "QTs70ZxVbk0J",
        "colab_type": "code",
        "colab": {}
      },
      "source": [
        "assert sorted(bow_vocabulary)[::200] == ['!', '12500', '270', '700', 'by', 'gh', 'michael', 'sonata', 'ø', 'аудиоподготовка', 'большим', 'веса', 'воспроизведения', 'габариты', 'гтд', 'джинсами', 'доступность', 'загрузки', 'зимней', 'использовался', 'квартала', 'коммуникации', 'кошки', 'лакированные', 'магазин', 'металл', 'мск', 'натуральным', 'носке', 'одному', 'отвечаем', 'пассат', 'плотно', 'покраску', 'постоянные', 'примеры', 'просьба', 'размещайте', 'репетитор', 'сантехник', 'сидения', 'современного', 'стала', 'схема', 'тон', 'удлиненная', 'фасад', 'цветами', 'шея', 'эту']"
      ],
      "execution_count": 0,
      "outputs": []
    },
    {
      "cell_type": "code",
      "metadata": {
        "id": "4awkhecbR9om",
        "colab_type": "code",
        "colab": {}
      },
      "source": [
        "def text_to_bow(text: str) -> np.array:\n",
        "    \"\"\"\n",
        "    Возвращает вектор, где для каждого слова из most_common\n",
        "    указано количество его употреблений\n",
        "    \"\"\" \n",
        "\n",
        "    # Your code here"
      ],
      "execution_count": 0,
      "outputs": []
    },
    {
      "cell_type": "code",
      "metadata": {
        "id": "IZnJT2JbdXA3",
        "colab_type": "code",
        "colab": {}
      },
      "source": [
        "assert np.allclose(np.where(text_to_bow(\"сдаётся уютный , тёплый гараж для стартапов в ml\") != 0)[0],\n",
        "                   np.array([   1,    4,   12,  565,  866, 1601, 2539, 4063])\n",
        ")"
      ],
      "execution_count": 0,
      "outputs": []
    },
    {
      "cell_type": "code",
      "metadata": {
        "id": "HR_D8Fn4pudv",
        "colab_type": "code",
        "colab": {}
      },
      "source": [
        "def items_to_bow(items: np.array) -> np.array:\n",
        "    \"\"\" Для каждого товара возвращает вектор его bow \"\"\"\n",
        "    # Давайте для начала попробуем строить bow только из description товара\n",
        "    # assert ниже написан для bow из description\n",
        "\n",
        "\n",
        "    # Your code here"
      ],
      "execution_count": 0,
      "outputs": []
    },
    {
      "cell_type": "code",
      "metadata": {
        "id": "pKdfMqbIetPA",
        "colab_type": "code",
        "outputId": "9054ba46-57a4-4eea-cb3d-5d1764e1d56f",
        "colab": {
          "base_uri": "https://localhost:8080/",
          "height": 35
        }
      },
      "source": [
        "assert np.allclose(np.where(items_to_bow([X_train[42]])[0] != 0),\n",
        "                   np.array([   0, 1, 2, 5, 6, 7, 12, 27, 41, 49, 110,\n",
        "                                189,  208,  221, 2032, 3052, 7179, 9568]),\n",
        ")"
      ],
      "execution_count": 0,
      "outputs": [
        {
          "output_type": "stream",
          "text": [
            "100%|██████████| 1/1 [00:00<00:00, 106.25it/s]\n"
          ],
          "name": "stderr"
        }
      ]
    },
    {
      "cell_type": "code",
      "metadata": {
        "id": "wwOZaEpMSQsZ",
        "colab_type": "code",
        "outputId": "8a30c3af-3517-42bd-a5f3-36206b4b264a",
        "colab": {
          "base_uri": "https://localhost:8080/",
          "height": 53
        }
      },
      "source": [
        "X_train_bow = items_to_bow(X_train)\n",
        "X_test_bow = items_to_bow(X_test)"
      ],
      "execution_count": 0,
      "outputs": [
        {
          "output_type": "stream",
          "text": [
            "100%|██████████| 21000/21000 [01:28<00:00, 236.40it/s]\n",
            "100%|██████████| 9000/9000 [00:39<00:00, 227.09it/s]\n"
          ],
          "name": "stderr"
        }
      ]
    },
    {
      "cell_type": "code",
      "metadata": {
        "id": "bJVLS8Fs3CeT",
        "colab_type": "code",
        "colab": {}
      },
      "source": [
        "from sklearn.metrics import accuracy_score"
      ],
      "execution_count": 0,
      "outputs": []
    },
    {
      "cell_type": "markdown",
      "metadata": {
        "id": "vJoXiCWI7VF5",
        "colab_type": "text"
      },
      "source": [
        "### Логистическая регрессия и SVC (1 балл)\n",
        "\n",
        "\n",
        "Теперь описание каждого товара представлено, как точка в многомерном пространстве.\n",
        "Очень важно запомнить эту идею: дальше мы будем рассматривать разные способы перехода от текста к точке в пространстве.\n",
        "\n",
        "Для BOW каждое измерение в пространстве -- какое-то слово.\n",
        "Мы предполагаем, что текст описывается набором каких-то популярных слов, которые в нём встречаются, а близкие по смыслу тексты будут использовать одинаковые слова.\n",
        "\n",
        "Обучите логистическую регрессию и SVC с базовыми параметрами.\n"
      ]
    },
    {
      "cell_type": "code",
      "metadata": {
        "id": "Ky3HV1rTSS9L",
        "colab_type": "code",
        "outputId": "612a5f0d-76bd-44f4-eeeb-63b517443797",
        "colab": {
          "base_uri": "https://localhost:8080/",
          "height": 179
        }
      },
      "source": [
        "from sklearn.linear_model import LogisticRegression\n",
        "bow_model = LogisticRegression(max_iter=100).fit(X_train_bow, y_train)\n",
        "accuracy_score(bow_model.predict(X_test_bow), y_test)\n",
        "\n",
        "assert accuracy_score(bow_model.predict(X_test_bow), y_test) > 0.7"
      ],
      "execution_count": 0,
      "outputs": [
        {
          "output_type": "stream",
          "text": [
            "/usr/local/lib/python3.6/dist-packages/sklearn/linear_model/_logistic.py:940: ConvergenceWarning: lbfgs failed to converge (status=1):\n",
            "STOP: TOTAL NO. of ITERATIONS REACHED LIMIT.\n",
            "\n",
            "Increase the number of iterations (max_iter) or scale the data as shown in:\n",
            "    https://scikit-learn.org/stable/modules/preprocessing.html\n",
            "Please also refer to the documentation for alternative solver options:\n",
            "    https://scikit-learn.org/stable/modules/linear_model.html#logistic-regression\n",
            "  extra_warning_msg=_LOGISTIC_SOLVER_CONVERGENCE_MSG)\n"
          ],
          "name": "stderr"
        },
        {
          "output_type": "execute_result",
          "data": {
            "text/plain": [
              "0.7011111111111111"
            ]
          },
          "metadata": {
            "tags": []
          },
          "execution_count": 23
        }
      ]
    },
    {
      "cell_type": "code",
      "metadata": {
        "id": "-c46ZT0lvF6T",
        "colab_type": "code",
        "outputId": "4b1cb34a-201b-4dc2-9155-fdb6919c6c08",
        "colab": {
          "base_uri": "https://localhost:8080/",
          "height": 71
        }
      },
      "source": [
        "from sklearn.svm import LinearSVC\n",
        "\n",
        "bow_model = LinearSVC(max_iter=70).fit(X_train_bow, y_train)\n",
        "print(accuracy_score(bow_model.predict(X_test_bow), y_test))\n",
        "\n",
        "assert accuracy_score(bow_model.predict(X_test_bow), y_test) > 0.68"
      ],
      "execution_count": 0,
      "outputs": [
        {
          "output_type": "stream",
          "text": [
            "/usr/local/lib/python3.6/dist-packages/sklearn/svm/_base.py:947: ConvergenceWarning: Liblinear failed to converge, increase the number of iterations.\n",
            "  \"the number of iterations.\", ConvergenceWarning)\n"
          ],
          "name": "stderr"
        },
        {
          "output_type": "execute_result",
          "data": {
            "text/plain": [
              "0.6847777777777778"
            ]
          },
          "metadata": {
            "tags": []
          },
          "execution_count": 24
        }
      ]
    },
    {
      "cell_type": "markdown",
      "metadata": {
        "id": "WwKE57YZ1Hzn",
        "colab_type": "text"
      },
      "source": [
        "### Модификация признаков (0.5 балла)"
      ]
    },
    {
      "cell_type": "markdown",
      "metadata": {
        "id": "ewMlxQezL6Ax",
        "colab_type": "text"
      },
      "source": [
        "Добавьте title товара в bow с произвольным весом, как изменится качество?"
      ]
    },
    {
      "cell_type": "code",
      "metadata": {
        "id": "evqKo1r5L5BO",
        "colab_type": "code",
        "colab": {}
      },
      "source": [
        "# Your code here"
      ],
      "execution_count": 0,
      "outputs": []
    },
    {
      "cell_type": "markdown",
      "metadata": {
        "id": "Db4TyqzxMnby",
        "colab_type": "text"
      },
      "source": [
        "Нормализуйте данные (`sklearn.preprocessing.normalize`) перед обучением. Что станет с качеством и почему?"
      ]
    },
    {
      "cell_type": "code",
      "metadata": {
        "id": "A8rVy6q1Mn4J",
        "colab_type": "code",
        "colab": {}
      },
      "source": [
        "# Your code here"
      ],
      "execution_count": 0,
      "outputs": []
    },
    {
      "cell_type": "markdown",
      "metadata": {
        "id": "HvCAL3qGDByj",
        "colab_type": "text"
      },
      "source": [
        "### mystem (0.5) балла\n",
        "\n",
        "Попробуйте обучиться, используя токенизатор mystem. Сравните качество."
      ]
    },
    {
      "cell_type": "code",
      "metadata": {
        "id": "Hz38TqqRDY6-",
        "colab_type": "code",
        "colab": {}
      },
      "source": [
        "!wget http://download.cdn.yandex.net/mystem/mystem-3.0-linux3.1-64bit.tar.gz\n",
        "!tar -xvf mystem-3.0-linux3.1-64bit.tar.gz\n",
        "!cp mystem /bin"
      ],
      "execution_count": 0,
      "outputs": []
    },
    {
      "cell_type": "code",
      "metadata": {
        "id": "60oQ-6UgDcLF",
        "colab_type": "code",
        "colab": {}
      },
      "source": [
        "pip install git+https://github.com/nlpub/pymystem3"
      ],
      "execution_count": 0,
      "outputs": []
    },
    {
      "cell_type": "code",
      "metadata": {
        "id": "mGvNHfVsDfhq",
        "colab_type": "code",
        "colab": {}
      },
      "source": [
        "from pymystem3 import Mystem\n",
        "\n",
        "# Your code here"
      ],
      "execution_count": 0,
      "outputs": []
    },
    {
      "cell_type": "markdown",
      "metadata": {
        "id": "bXbsPtpfoB7m",
        "colab_type": "text"
      },
      "source": [
        "### TF-IDF (1.5 балла)\n",
        "\n",
        "Не все слова полезны одинаково, давайте попробуем [взвесить](http://tfidf.com/) их, чтобы отобрать более полезные.\n",
        "\n",
        "\n",
        "> TF(t) = (Number of times term t appears in a document) / (Total number of terms in the document).\n",
        "> \n",
        "> IDF(t) = log_e(Total number of documents / Number of documents with term t in it).\n",
        "\n",
        "\n",
        "В sklearn есть TfidfVectorizer, но в этом задании его использовать нельзя."
      ]
    },
    {
      "cell_type": "code",
      "metadata": {
        "id": "_yIeoic7o3ES",
        "colab_type": "code",
        "colab": {}
      },
      "source": [
        "# Давайте для простоты считать один tf-idf для title и description.\n",
        "# Для каждого слова из bow_vocabulary нужно посчитать\n",
        "# в тексте скольких товаров встретилось это слово\n",
        "\n",
        "\n",
        "count_arr = #"
      ],
      "execution_count": 0,
      "outputs": []
    },
    {
      "cell_type": "code",
      "metadata": {
        "id": "6i5zFpD9rbtz",
        "colab_type": "code",
        "colab": {}
      },
      "source": [
        "def text_to_tfidf(text: str) -> np.array:\n",
        "    \"\"\"\n",
        "    Возвращает вектор, где для каждого слова из most_common\n",
        "    указан tf-idf\n",
        "    \"\"\"\n",
        "\n",
        "    # Your code here"
      ],
      "execution_count": 0,
      "outputs": []
    },
    {
      "cell_type": "code",
      "metadata": {
        "id": "LvL9BH7DsJrv",
        "colab_type": "code",
        "colab": {}
      },
      "source": [
        "# Нормализуйте данные\n",
        "from sklearn.preprocessing import normalize\n",
        "\n",
        "\n",
        "# Your code here"
      ],
      "execution_count": 0,
      "outputs": []
    },
    {
      "cell_type": "markdown",
      "metadata": {
        "id": "-YFA-8kE1RHk",
        "colab_type": "text"
      },
      "source": [
        "### Модели на TF-IDF признаках (1 балл)\n",
        "\n",
        "Обучите логистическую регрессию и SVC, оцените качество (accuracy_score)"
      ]
    },
    {
      "cell_type": "code",
      "metadata": {
        "id": "-ULrXsF1m5sU",
        "colab_type": "code",
        "colab": {}
      },
      "source": [
        "# Your code here"
      ],
      "execution_count": 0,
      "outputs": []
    },
    {
      "cell_type": "markdown",
      "metadata": {
        "id": "jFdy3lUFDsOr",
        "colab_type": "text"
      },
      "source": [
        "### Hashing Vectorizer (0.5 балла)\n",
        "\n",
        "Попробуйте использовать `sklearn.feature_extraction.text.HashingVectorizer` для векторизации текстов.\n",
        "Обязательно оцените качество работы алгоритмов классификации с использованием новой векторизации."
      ]
    },
    {
      "cell_type": "code",
      "metadata": {
        "id": "Y666HTrqDq1m",
        "colab_type": "code",
        "colab": {}
      },
      "source": [
        "# Your code here"
      ],
      "execution_count": 0,
      "outputs": []
    },
    {
      "cell_type": "markdown",
      "metadata": {
        "id": "vQZ61xSsTpZI",
        "colab_type": "text"
      },
      "source": [
        "### Word Vectors (1 балл)\n",
        "\n",
        "Давайте попробуем другой подход -- кажому слову сопоставим какой-то эмбеддинг (вектор).\n",
        "\n",
        "Вектора будут небольшой размерности. Таким образом мы снизим количество параметров в модели.\n",
        "\n",
        "Вектора мы возьмём уже готовые (обученные на текстах их интернета), так что наша модель будет знать некоторую дополнительную информацию о внешнем мире."
      ]
    },
    {
      "cell_type": "code",
      "metadata": {
        "id": "T38J27NcYGx5",
        "colab_type": "code",
        "outputId": "57fa3a9f-13a3-4fa1-d13c-3c0c49a86a71",
        "colab": {
          "base_uri": "https://localhost:8080/",
          "height": 649
        }
      },
      "source": [
        "!wget https://www.dropbox.com/s/0x7oxso6x93efzj/ru.tar.gz"
      ],
      "execution_count": 0,
      "outputs": [
        {
          "output_type": "stream",
          "text": [
            "--2020-03-31 16:45:00--  https://www.dropbox.com/s/0x7oxso6x93efzj/ru.tar.gz\n",
            "Resolving www.dropbox.com (www.dropbox.com)... 162.125.82.1, 2620:100:6032:1::a27d:5201\n",
            "Connecting to www.dropbox.com (www.dropbox.com)|162.125.82.1|:443... connected.\n",
            "HTTP request sent, awaiting response... 301 Moved Permanently\n",
            "Location: /s/raw/0x7oxso6x93efzj/ru.tar.gz [following]\n",
            "--2020-03-31 16:45:00--  https://www.dropbox.com/s/raw/0x7oxso6x93efzj/ru.tar.gz\n",
            "Reusing existing connection to www.dropbox.com:443.\n",
            "HTTP request sent, awaiting response... 302 Found\n",
            "Location: https://ucf74acabb02d88214319f005183.dl.dropboxusercontent.com/cd/0/inline/A087WRc_C-FkDvCVbFXdMKdMyQWRCexUAvk6YIRSoEau8Wq5ksdlNc1cSEiPXmVgH-PCYXTEX9bRxCxm-rQzL6jX_HpbKnwGLF_pva7_h6eR9w/file# [following]\n",
            "--2020-03-31 16:45:01--  https://ucf74acabb02d88214319f005183.dl.dropboxusercontent.com/cd/0/inline/A087WRc_C-FkDvCVbFXdMKdMyQWRCexUAvk6YIRSoEau8Wq5ksdlNc1cSEiPXmVgH-PCYXTEX9bRxCxm-rQzL6jX_HpbKnwGLF_pva7_h6eR9w/file\n",
            "Resolving ucf74acabb02d88214319f005183.dl.dropboxusercontent.com (ucf74acabb02d88214319f005183.dl.dropboxusercontent.com)... 162.125.82.6, 2620:100:6032:6::a27d:5206\n",
            "Connecting to ucf74acabb02d88214319f005183.dl.dropboxusercontent.com (ucf74acabb02d88214319f005183.dl.dropboxusercontent.com)|162.125.82.6|:443... connected.\n",
            "HTTP request sent, awaiting response... 302 FOUND\n",
            "Location: /cd/0/inline2/A09cGdWaLbS-ccVm41xYPUicWdMi6dg446409qVshoS7RssgFYWmYBfF4DcywLsAQV2jHUjHG9EOolGeXSiW6EtdI0jN2aQThfRwSno-RtVXD38oKCTjfGxPKp_ahGjunMQHPTXtQD7nwK4N9KVHfkz6mJKPxo_LOUv3tygYtxM95XmKPX3DpEV-OzWMLHlqQjz_F1yvcmIp6AP1ndmaDxbOY_DtkQeFsHDczp5Jzpsh5tK2Z2Ep4GQAJG-KfElb8sf_71ZjtmcJ1f_hoYPZWR4f067rtwwk0CyAaN8iTLHDHo890m3ukXzEyiqMCPh97qyGWS8xOmHpfBa8kPLj2ztS/file [following]\n",
            "--2020-03-31 16:45:02--  https://ucf74acabb02d88214319f005183.dl.dropboxusercontent.com/cd/0/inline2/A09cGdWaLbS-ccVm41xYPUicWdMi6dg446409qVshoS7RssgFYWmYBfF4DcywLsAQV2jHUjHG9EOolGeXSiW6EtdI0jN2aQThfRwSno-RtVXD38oKCTjfGxPKp_ahGjunMQHPTXtQD7nwK4N9KVHfkz6mJKPxo_LOUv3tygYtxM95XmKPX3DpEV-OzWMLHlqQjz_F1yvcmIp6AP1ndmaDxbOY_DtkQeFsHDczp5Jzpsh5tK2Z2Ep4GQAJG-KfElb8sf_71ZjtmcJ1f_hoYPZWR4f067rtwwk0CyAaN8iTLHDHo890m3ukXzEyiqMCPh97qyGWS8xOmHpfBa8kPLj2ztS/file\n",
            "Reusing existing connection to ucf74acabb02d88214319f005183.dl.dropboxusercontent.com:443.\n",
            "HTTP request sent, awaiting response... 200 OK\n",
            "Length: 2399456034 (2.2G) [application/octet-stream]\n",
            "Saving to: ‘ru.tar.gz’\n",
            "\n",
            "ru.tar.gz            81%[===============>    ]   1.83G  3.89MB/s    in 8m 26s  \n",
            "\n",
            "2020-03-31 16:53:29 (3.70 MB/s) - Connection closed at byte 1966208422. Retrying.\n",
            "\n",
            "--2020-03-31 16:53:30--  (try: 2)  https://ucf74acabb02d88214319f005183.dl.dropboxusercontent.com/cd/0/inline2/A09cGdWaLbS-ccVm41xYPUicWdMi6dg446409qVshoS7RssgFYWmYBfF4DcywLsAQV2jHUjHG9EOolGeXSiW6EtdI0jN2aQThfRwSno-RtVXD38oKCTjfGxPKp_ahGjunMQHPTXtQD7nwK4N9KVHfkz6mJKPxo_LOUv3tygYtxM95XmKPX3DpEV-OzWMLHlqQjz_F1yvcmIp6AP1ndmaDxbOY_DtkQeFsHDczp5Jzpsh5tK2Z2Ep4GQAJG-KfElb8sf_71ZjtmcJ1f_hoYPZWR4f067rtwwk0CyAaN8iTLHDHo890m3ukXzEyiqMCPh97qyGWS8xOmHpfBa8kPLj2ztS/file\n",
            "Connecting to ucf74acabb02d88214319f005183.dl.dropboxusercontent.com (ucf74acabb02d88214319f005183.dl.dropboxusercontent.com)|162.125.82.6|:443... connected.\n",
            "HTTP request sent, awaiting response... 206 PARTIAL CONTENT\n",
            "Length: 2399456034 (2.2G), 433247612 (413M) remaining [application/octet-stream]\n",
            "Saving to: ‘ru.tar.gz’\n",
            "\n",
            "ru.tar.gz           100%[++++++++++++++++===>]   2.23G  4.04MB/s    in 1m 58s  \n",
            "\n",
            "2020-03-31 16:55:30 (3.51 MB/s) - ‘ru.tar.gz’ saved [2399456034/2399456034]\n",
            "\n"
          ],
          "name": "stdout"
        }
      ]
    },
    {
      "cell_type": "code",
      "metadata": {
        "id": "Zfse4xVbgMIr",
        "colab_type": "code",
        "colab": {}
      },
      "source": [
        "!tar -xzvf ru.tar.gz"
      ],
      "execution_count": 0,
      "outputs": []
    },
    {
      "cell_type": "code",
      "metadata": {
        "id": "sy2TXmQ2jZSY",
        "colab_type": "code",
        "colab": {}
      },
      "source": [
        "import gensim\n",
        "from gensim.models.wrappers import FastText\n",
        "\n",
        "\n",
        "model = FastText.load_fasttext_format('ru.bin')"
      ],
      "execution_count": 0,
      "outputs": []
    },
    {
      "cell_type": "code",
      "metadata": {
        "id": "H49QR_jhjmCa",
        "colab_type": "code",
        "colab": {}
      },
      "source": [
        "# Эмбеддинг предложения -- сумма эмбеддингов токенов\n",
        "\n",
        "\n",
        "def sentence_embedding(sentence: str) -> np.array:\n",
        "    \"\"\"\n",
        "    Складывает вектора токенов строки sentence\n",
        "    \"\"\"\n",
        "\n",
        "    embedding_dim = model['кек'].shape[0]\n",
        "    features = np.zeros([embedding_dim], dtype='float32')\n",
        "    \n",
        "    for word in sentence.split():\n",
        "        if word in model:\n",
        "            features += model[word]\n",
        "    \n",
        "    return features"
      ],
      "execution_count": 0,
      "outputs": []
    },
    {
      "cell_type": "code",
      "metadata": {
        "id": "Gj6U_hjtlllV",
        "colab_type": "code",
        "colab": {}
      },
      "source": [
        "assert np.allclose(sentence_embedding('сдаётся уютный , тёплый гараж для стартапов в ml')[::50],\n",
        "                   np.array([ 0.08189847,  0.07249198, -0.15601222,  0.03782297,  0.09215296, -0.23092946]))"
      ],
      "execution_count": 0,
      "outputs": []
    },
    {
      "cell_type": "code",
      "metadata": {
        "id": "8tfhc-PFmGvu",
        "colab_type": "code",
        "colab": {}
      },
      "source": [
        "# Обучите логистическую регрессию и SVM\n",
        "# Оцените качество (accuracy_score)"
      ],
      "execution_count": 0,
      "outputs": []
    },
    {
      "cell_type": "markdown",
      "metadata": {
        "id": "cVEdlFostSnX",
        "colab_type": "text"
      },
      "source": [
        "### Что дальше?\n",
        "\n",
        "Решение каждого пункта 1 балл:\n",
        "\n",
        "1. N-Gram модели текстовой классификации\n",
        "\n",
        "2. Обучиться на полных данных (контест на kaggle)\n",
        "\n",
        "3. Поработать с другими эмбеддингами (word2vec, GloVe).\n",
        "\n",
        "4. Использовать Vowpal Wabbit вместо sklearn.\n",
        "\n",
        "5. Другие способы токенизации (pymorphy2, spaCy)\n",
        "\n",
        "\n",
        "Снабжайте код пояснениями и графиками.\n",
        "Обязательно необходимо написать вывод по каждому пункту, который вы реализуете."
      ]
    },
    {
      "cell_type": "code",
      "metadata": {
        "id": "xyIh2PN3udhD",
        "colab_type": "code",
        "colab": {}
      },
      "source": [
        ""
      ],
      "execution_count": 0,
      "outputs": []
    }
  ]
}
